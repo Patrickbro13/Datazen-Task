{
 "cells": [
  {
   "cell_type": "code",
   "execution_count": 1,
   "metadata": {},
   "outputs": [],
   "source": [
    "import pandas as pd\n",
    "import numpy as np\n",
    "import seaborn as sns\n",
    "sns.set_theme(style=\"whitegrid\")"
   ]
  },
  {
   "cell_type": "markdown",
   "metadata": {},
   "source": [
    "# Loading and cleaning data"
   ]
  },
  {
   "cell_type": "code",
   "execution_count": 2,
   "metadata": {},
   "outputs": [],
   "source": [
    "df = pd.read_csv(\"tech_team_test.csv\")"
   ]
  },
  {
   "cell_type": "code",
   "execution_count": 3,
   "metadata": {},
   "outputs": [
    {
     "data": {
      "text/html": [
       "<div>\n",
       "<style scoped>\n",
       "    .dataframe tbody tr th:only-of-type {\n",
       "        vertical-align: middle;\n",
       "    }\n",
       "\n",
       "    .dataframe tbody tr th {\n",
       "        vertical-align: top;\n",
       "    }\n",
       "\n",
       "    .dataframe thead th {\n",
       "        text-align: right;\n",
       "    }\n",
       "</style>\n",
       "<table border=\"1\" class=\"dataframe\">\n",
       "  <thead>\n",
       "    <tr style=\"text-align: right;\">\n",
       "      <th></th>\n",
       "      <th>InvoiceNo</th>\n",
       "      <th>StockCode</th>\n",
       "      <th>Description</th>\n",
       "      <th>Quantity</th>\n",
       "      <th>InvoiceDate</th>\n",
       "      <th>CustomerID</th>\n",
       "      <th>Country</th>\n",
       "    </tr>\n",
       "  </thead>\n",
       "  <tbody>\n",
       "    <tr>\n",
       "      <th>0</th>\n",
       "      <td>2291</td>\n",
       "      <td>266</td>\n",
       "      <td>3126</td>\n",
       "      <td>2</td>\n",
       "      <td>2011-01-28 13:27:00</td>\n",
       "      <td>13707.0</td>\n",
       "      <td>35</td>\n",
       "    </tr>\n",
       "    <tr>\n",
       "      <th>1</th>\n",
       "      <td>9178</td>\n",
       "      <td>1336</td>\n",
       "      <td>1617</td>\n",
       "      <td>1</td>\n",
       "      <td>2011-07-10 16:18:00</td>\n",
       "      <td>16877.0</td>\n",
       "      <td>35</td>\n",
       "    </tr>\n",
       "    <tr>\n",
       "      <th>2</th>\n",
       "      <td>11653</td>\n",
       "      <td>43</td>\n",
       "      <td>3842</td>\n",
       "      <td>25</td>\n",
       "      <td>2011-09-05 14:11:00</td>\n",
       "      <td>13510.0</td>\n",
       "      <td>35</td>\n",
       "    </tr>\n",
       "    <tr>\n",
       "      <th>3</th>\n",
       "      <td>14845</td>\n",
       "      <td>1643</td>\n",
       "      <td>1272</td>\n",
       "      <td>8</td>\n",
       "      <td>2011-10-27 15:49:00</td>\n",
       "      <td>14525.0</td>\n",
       "      <td>35</td>\n",
       "    </tr>\n",
       "    <tr>\n",
       "      <th>4</th>\n",
       "      <td>11576</td>\n",
       "      <td>1581</td>\n",
       "      <td>146</td>\n",
       "      <td>2</td>\n",
       "      <td>2011-09-04 12:49:00</td>\n",
       "      <td>17774.0</td>\n",
       "      <td>35</td>\n",
       "    </tr>\n",
       "  </tbody>\n",
       "</table>\n",
       "</div>"
      ],
      "text/plain": [
       "   InvoiceNo  StockCode  Description  Quantity          InvoiceDate  \\\n",
       "0       2291        266         3126         2  2011-01-28 13:27:00   \n",
       "1       9178       1336         1617         1  2011-07-10 16:18:00   \n",
       "2      11653         43         3842        25  2011-09-05 14:11:00   \n",
       "3      14845       1643         1272         8  2011-10-27 15:49:00   \n",
       "4      11576       1581          146         2  2011-09-04 12:49:00   \n",
       "\n",
       "   CustomerID  Country  \n",
       "0     13707.0       35  \n",
       "1     16877.0       35  \n",
       "2     13510.0       35  \n",
       "3     14525.0       35  \n",
       "4     17774.0       35  "
      ]
     },
     "execution_count": 3,
     "metadata": {},
     "output_type": "execute_result"
    }
   ],
   "source": [
    "df.head()"
   ]
  },
  {
   "cell_type": "markdown",
   "metadata": {},
   "source": [
    "## Info about the dataset"
   ]
  },
  {
   "cell_type": "code",
   "execution_count": 4,
   "metadata": {},
   "outputs": [
    {
     "name": "stdout",
     "output_type": "stream",
     "text": [
      "<class 'pandas.core.frame.DataFrame'>\n",
      "RangeIndex: 84780 entries, 0 to 84779\n",
      "Data columns (total 7 columns):\n",
      " #   Column       Non-Null Count  Dtype  \n",
      "---  ------       --------------  -----  \n",
      " 0   InvoiceNo    84780 non-null  int64  \n",
      " 1   StockCode    84780 non-null  int64  \n",
      " 2   Description  84780 non-null  int64  \n",
      " 3   Quantity     84780 non-null  int64  \n",
      " 4   InvoiceDate  84780 non-null  object \n",
      " 5   CustomerID   84780 non-null  float64\n",
      " 6   Country      84780 non-null  int64  \n",
      "dtypes: float64(1), int64(5), object(1)\n",
      "memory usage: 4.5+ MB\n"
     ]
    }
   ],
   "source": [
    "df.info()"
   ]
  },
  {
   "cell_type": "markdown",
   "metadata": {},
   "source": [
    "### So we can see that there are 84780 entries having 7 columns with no null values !"
   ]
  },
  {
   "cell_type": "markdown",
   "metadata": {},
   "source": [
    "## Getting numeric columns "
   ]
  },
  {
   "cell_type": "code",
   "execution_count": 5,
   "metadata": {},
   "outputs": [],
   "source": [
    "numerics = ['int16', 'int32', 'int64', 'float16', 'float32', 'float64']\n",
    "\n",
    "numeric_df = df.select_dtypes(include=numerics)"
   ]
  },
  {
   "cell_type": "markdown",
   "metadata": {},
   "source": [
    "## Looking if there are some negative values in dataset in numeric columns"
   ]
  },
  {
   "cell_type": "code",
   "execution_count": 6,
   "metadata": {},
   "outputs": [
    {
     "name": "stdout",
     "output_type": "stream",
     "text": [
      "column name  negative values \n",
      "\n",
      "InvoiceNo :  0\n",
      "StockCode :  0\n",
      "Description :  0\n",
      "Quantity :  1850\n",
      "CustomerID :  0\n",
      "Country :  0\n"
     ]
    }
   ],
   "source": [
    "print(\"column name  negative values \\n\")\n",
    "for col in numeric_df.columns :\n",
    "    print(f'{col} : ', len(df[df[col] < 0]))"
   ]
  },
  {
   "cell_type": "markdown",
   "metadata": {},
   "source": [
    "### So as we can see that \"Quantity\" columns consists of negative values which should not be there so let's drop those rows \n",
    "(Since there are 84780 rows thus dropping 1850 rows won't cause much difference)"
   ]
  },
  {
   "cell_type": "code",
   "execution_count": 7,
   "metadata": {},
   "outputs": [],
   "source": [
    "df = df[df[\"Quantity\"] > 0]"
   ]
  },
  {
   "cell_type": "code",
   "execution_count": 8,
   "metadata": {},
   "outputs": [
    {
     "data": {
      "text/html": [
       "<div>\n",
       "<style scoped>\n",
       "    .dataframe tbody tr th:only-of-type {\n",
       "        vertical-align: middle;\n",
       "    }\n",
       "\n",
       "    .dataframe tbody tr th {\n",
       "        vertical-align: top;\n",
       "    }\n",
       "\n",
       "    .dataframe thead th {\n",
       "        text-align: right;\n",
       "    }\n",
       "</style>\n",
       "<table border=\"1\" class=\"dataframe\">\n",
       "  <thead>\n",
       "    <tr style=\"text-align: right;\">\n",
       "      <th></th>\n",
       "      <th>InvoiceNo</th>\n",
       "      <th>StockCode</th>\n",
       "      <th>Description</th>\n",
       "      <th>Quantity</th>\n",
       "      <th>InvoiceDate</th>\n",
       "      <th>CustomerID</th>\n",
       "      <th>Country</th>\n",
       "    </tr>\n",
       "  </thead>\n",
       "  <tbody>\n",
       "    <tr>\n",
       "      <th>0</th>\n",
       "      <td>2291</td>\n",
       "      <td>266</td>\n",
       "      <td>3126</td>\n",
       "      <td>2</td>\n",
       "      <td>2011-01-28 13:27:00</td>\n",
       "      <td>13707.0</td>\n",
       "      <td>35</td>\n",
       "    </tr>\n",
       "    <tr>\n",
       "      <th>1</th>\n",
       "      <td>9178</td>\n",
       "      <td>1336</td>\n",
       "      <td>1617</td>\n",
       "      <td>1</td>\n",
       "      <td>2011-07-10 16:18:00</td>\n",
       "      <td>16877.0</td>\n",
       "      <td>35</td>\n",
       "    </tr>\n",
       "    <tr>\n",
       "      <th>2</th>\n",
       "      <td>11653</td>\n",
       "      <td>43</td>\n",
       "      <td>3842</td>\n",
       "      <td>25</td>\n",
       "      <td>2011-09-05 14:11:00</td>\n",
       "      <td>13510.0</td>\n",
       "      <td>35</td>\n",
       "    </tr>\n",
       "    <tr>\n",
       "      <th>3</th>\n",
       "      <td>14845</td>\n",
       "      <td>1643</td>\n",
       "      <td>1272</td>\n",
       "      <td>8</td>\n",
       "      <td>2011-10-27 15:49:00</td>\n",
       "      <td>14525.0</td>\n",
       "      <td>35</td>\n",
       "    </tr>\n",
       "    <tr>\n",
       "      <th>4</th>\n",
       "      <td>11576</td>\n",
       "      <td>1581</td>\n",
       "      <td>146</td>\n",
       "      <td>2</td>\n",
       "      <td>2011-09-04 12:49:00</td>\n",
       "      <td>17774.0</td>\n",
       "      <td>35</td>\n",
       "    </tr>\n",
       "  </tbody>\n",
       "</table>\n",
       "</div>"
      ],
      "text/plain": [
       "   InvoiceNo  StockCode  Description  Quantity          InvoiceDate  \\\n",
       "0       2291        266         3126         2  2011-01-28 13:27:00   \n",
       "1       9178       1336         1617         1  2011-07-10 16:18:00   \n",
       "2      11653         43         3842        25  2011-09-05 14:11:00   \n",
       "3      14845       1643         1272         8  2011-10-27 15:49:00   \n",
       "4      11576       1581          146         2  2011-09-04 12:49:00   \n",
       "\n",
       "   CustomerID  Country  \n",
       "0     13707.0       35  \n",
       "1     16877.0       35  \n",
       "2     13510.0       35  \n",
       "3     14525.0       35  \n",
       "4     17774.0       35  "
      ]
     },
     "execution_count": 8,
     "metadata": {},
     "output_type": "execute_result"
    }
   ],
   "source": [
    "df.head()"
   ]
  },
  {
   "cell_type": "code",
   "execution_count": 9,
   "metadata": {},
   "outputs": [
    {
     "data": {
      "text/plain": [
       "0"
      ]
     },
     "execution_count": 9,
     "metadata": {},
     "output_type": "execute_result"
    }
   ],
   "source": [
    "len(df[df[\"Quantity\"] < 0]) # Thus we have removed the rows which contains negative values "
   ]
  },
  {
   "cell_type": "markdown",
   "metadata": {},
   "source": [
    "## Unique values in each column"
   ]
  },
  {
   "cell_type": "code",
   "execution_count": 10,
   "metadata": {},
   "outputs": [
    {
     "data": {
      "text/plain": [
       "InvoiceNo      15552\n",
       "StockCode       3267\n",
       "Description     3392\n",
       "Quantity         170\n",
       "InvoiceDate    14646\n",
       "CustomerID      4093\n",
       "Country           37\n",
       "dtype: int64"
      ]
     },
     "execution_count": 10,
     "metadata": {},
     "output_type": "execute_result"
    }
   ],
   "source": [
    "df.nunique() "
   ]
  },
  {
   "cell_type": "markdown",
   "metadata": {},
   "source": [
    "### So looking at this we can say that for each InvoiceNo there are some common StockCodes"
   ]
  },
  {
   "cell_type": "markdown",
   "metadata": {},
   "source": [
    "### Looking at the years from which data is gathered"
   ]
  },
  {
   "cell_type": "code",
   "execution_count": 11,
   "metadata": {},
   "outputs": [],
   "source": [
    "years = []\n",
    "for datetime in df[\"InvoiceDate\"].unique() :\n",
    "    years.append(datetime[:4])"
   ]
  },
  {
   "cell_type": "code",
   "execution_count": 12,
   "metadata": {},
   "outputs": [
    {
     "data": {
      "text/plain": [
       "array(['2010', '2011'], dtype='<U4')"
      ]
     },
     "execution_count": 12,
     "metadata": {},
     "output_type": "execute_result"
    }
   ],
   "source": [
    "np.unique(years)"
   ]
  },
  {
   "cell_type": "markdown",
   "metadata": {},
   "source": [
    "### Data is gathered from year 2010 and 2011"
   ]
  },
  {
   "cell_type": "markdown",
   "metadata": {},
   "source": [
    "## By looking at the data it seems like \"Description\" column is of no use for analysis as it just contains a number which could be a length of the description provided for some stock, so we will just drop that column"
   ]
  },
  {
   "cell_type": "code",
   "execution_count": 13,
   "metadata": {},
   "outputs": [],
   "source": [
    "df.drop(columns = [\"Description\"], axis = 1, inplace = True)"
   ]
  },
  {
   "cell_type": "code",
   "execution_count": 14,
   "metadata": {},
   "outputs": [
    {
     "data": {
      "text/html": [
       "<div>\n",
       "<style scoped>\n",
       "    .dataframe tbody tr th:only-of-type {\n",
       "        vertical-align: middle;\n",
       "    }\n",
       "\n",
       "    .dataframe tbody tr th {\n",
       "        vertical-align: top;\n",
       "    }\n",
       "\n",
       "    .dataframe thead th {\n",
       "        text-align: right;\n",
       "    }\n",
       "</style>\n",
       "<table border=\"1\" class=\"dataframe\">\n",
       "  <thead>\n",
       "    <tr style=\"text-align: right;\">\n",
       "      <th></th>\n",
       "      <th>InvoiceNo</th>\n",
       "      <th>StockCode</th>\n",
       "      <th>Quantity</th>\n",
       "      <th>InvoiceDate</th>\n",
       "      <th>CustomerID</th>\n",
       "      <th>Country</th>\n",
       "    </tr>\n",
       "  </thead>\n",
       "  <tbody>\n",
       "    <tr>\n",
       "      <th>0</th>\n",
       "      <td>2291</td>\n",
       "      <td>266</td>\n",
       "      <td>2</td>\n",
       "      <td>2011-01-28 13:27:00</td>\n",
       "      <td>13707.0</td>\n",
       "      <td>35</td>\n",
       "    </tr>\n",
       "    <tr>\n",
       "      <th>1</th>\n",
       "      <td>9178</td>\n",
       "      <td>1336</td>\n",
       "      <td>1</td>\n",
       "      <td>2011-07-10 16:18:00</td>\n",
       "      <td>16877.0</td>\n",
       "      <td>35</td>\n",
       "    </tr>\n",
       "    <tr>\n",
       "      <th>2</th>\n",
       "      <td>11653</td>\n",
       "      <td>43</td>\n",
       "      <td>25</td>\n",
       "      <td>2011-09-05 14:11:00</td>\n",
       "      <td>13510.0</td>\n",
       "      <td>35</td>\n",
       "    </tr>\n",
       "    <tr>\n",
       "      <th>3</th>\n",
       "      <td>14845</td>\n",
       "      <td>1643</td>\n",
       "      <td>8</td>\n",
       "      <td>2011-10-27 15:49:00</td>\n",
       "      <td>14525.0</td>\n",
       "      <td>35</td>\n",
       "    </tr>\n",
       "    <tr>\n",
       "      <th>4</th>\n",
       "      <td>11576</td>\n",
       "      <td>1581</td>\n",
       "      <td>2</td>\n",
       "      <td>2011-09-04 12:49:00</td>\n",
       "      <td>17774.0</td>\n",
       "      <td>35</td>\n",
       "    </tr>\n",
       "  </tbody>\n",
       "</table>\n",
       "</div>"
      ],
      "text/plain": [
       "   InvoiceNo  StockCode  Quantity          InvoiceDate  CustomerID  Country\n",
       "0       2291        266         2  2011-01-28 13:27:00     13707.0       35\n",
       "1       9178       1336         1  2011-07-10 16:18:00     16877.0       35\n",
       "2      11653         43        25  2011-09-05 14:11:00     13510.0       35\n",
       "3      14845       1643         8  2011-10-27 15:49:00     14525.0       35\n",
       "4      11576       1581         2  2011-09-04 12:49:00     17774.0       35"
      ]
     },
     "execution_count": 14,
     "metadata": {},
     "output_type": "execute_result"
    }
   ],
   "source": [
    "df.head()"
   ]
  },
  {
   "cell_type": "markdown",
   "metadata": {},
   "source": [
    "---\n",
    "# Questions which can come after looking at the data \n",
    "1. Which Stocks get sold most ?\n",
    "2. In which countries most of the stocks are sold ? Or from which countries Stocks were bought a lot ?\n",
    "3. Trend of sell of stocks over a  year\n",
    "---\n",
    "\n",
    "## Let's look at this questions one by one"
   ]
  },
  {
   "cell_type": "markdown",
   "metadata": {},
   "source": [
    "## Q1. Which Stocks get sold most ?"
   ]
  },
  {
   "cell_type": "code",
   "execution_count": 15,
   "metadata": {},
   "outputs": [
    {
     "data": {
      "text/html": [
       "<div>\n",
       "<style scoped>\n",
       "    .dataframe tbody tr th:only-of-type {\n",
       "        vertical-align: middle;\n",
       "    }\n",
       "\n",
       "    .dataframe tbody tr th {\n",
       "        vertical-align: top;\n",
       "    }\n",
       "\n",
       "    .dataframe thead th {\n",
       "        text-align: right;\n",
       "    }\n",
       "</style>\n",
       "<table border=\"1\" class=\"dataframe\">\n",
       "  <thead>\n",
       "    <tr style=\"text-align: right;\">\n",
       "      <th></th>\n",
       "      <th>InvoiceNo</th>\n",
       "      <th>StockCode</th>\n",
       "      <th>Quantity</th>\n",
       "      <th>InvoiceDate</th>\n",
       "      <th>CustomerID</th>\n",
       "      <th>Country</th>\n",
       "    </tr>\n",
       "  </thead>\n",
       "  <tbody>\n",
       "    <tr>\n",
       "      <th>0</th>\n",
       "      <td>2291</td>\n",
       "      <td>266</td>\n",
       "      <td>2</td>\n",
       "      <td>2011-01-28 13:27:00</td>\n",
       "      <td>13707.0</td>\n",
       "      <td>35</td>\n",
       "    </tr>\n",
       "    <tr>\n",
       "      <th>1</th>\n",
       "      <td>9178</td>\n",
       "      <td>1336</td>\n",
       "      <td>1</td>\n",
       "      <td>2011-07-10 16:18:00</td>\n",
       "      <td>16877.0</td>\n",
       "      <td>35</td>\n",
       "    </tr>\n",
       "    <tr>\n",
       "      <th>2</th>\n",
       "      <td>11653</td>\n",
       "      <td>43</td>\n",
       "      <td>25</td>\n",
       "      <td>2011-09-05 14:11:00</td>\n",
       "      <td>13510.0</td>\n",
       "      <td>35</td>\n",
       "    </tr>\n",
       "    <tr>\n",
       "      <th>3</th>\n",
       "      <td>14845</td>\n",
       "      <td>1643</td>\n",
       "      <td>8</td>\n",
       "      <td>2011-10-27 15:49:00</td>\n",
       "      <td>14525.0</td>\n",
       "      <td>35</td>\n",
       "    </tr>\n",
       "    <tr>\n",
       "      <th>4</th>\n",
       "      <td>11576</td>\n",
       "      <td>1581</td>\n",
       "      <td>2</td>\n",
       "      <td>2011-09-04 12:49:00</td>\n",
       "      <td>17774.0</td>\n",
       "      <td>35</td>\n",
       "    </tr>\n",
       "    <tr>\n",
       "      <th>...</th>\n",
       "      <td>...</td>\n",
       "      <td>...</td>\n",
       "      <td>...</td>\n",
       "      <td>...</td>\n",
       "      <td>...</td>\n",
       "      <td>...</td>\n",
       "    </tr>\n",
       "    <tr>\n",
       "      <th>84604</th>\n",
       "      <td>12833</td>\n",
       "      <td>3404</td>\n",
       "      <td>24</td>\n",
       "      <td>2011-09-26 15:35:00</td>\n",
       "      <td>12612.0</td>\n",
       "      <td>14</td>\n",
       "    </tr>\n",
       "    <tr>\n",
       "      <th>84687</th>\n",
       "      <td>15252</td>\n",
       "      <td>3636</td>\n",
       "      <td>2</td>\n",
       "      <td>2011-11-02 15:56:00</td>\n",
       "      <td>17999.0</td>\n",
       "      <td>35</td>\n",
       "    </tr>\n",
       "    <tr>\n",
       "      <th>84708</th>\n",
       "      <td>6146</td>\n",
       "      <td>2689</td>\n",
       "      <td>1</td>\n",
       "      <td>2011-05-06 19:42:00</td>\n",
       "      <td>12748.0</td>\n",
       "      <td>35</td>\n",
       "    </tr>\n",
       "    <tr>\n",
       "      <th>84730</th>\n",
       "      <td>5036</td>\n",
       "      <td>2572</td>\n",
       "      <td>48</td>\n",
       "      <td>2011-04-08 12:42:00</td>\n",
       "      <td>13562.0</td>\n",
       "      <td>35</td>\n",
       "    </tr>\n",
       "    <tr>\n",
       "      <th>84744</th>\n",
       "      <td>16433</td>\n",
       "      <td>2404</td>\n",
       "      <td>1</td>\n",
       "      <td>2011-11-16 13:40:00</td>\n",
       "      <td>16204.0</td>\n",
       "      <td>35</td>\n",
       "    </tr>\n",
       "  </tbody>\n",
       "</table>\n",
       "<p>14015 rows × 6 columns</p>\n",
       "</div>"
      ],
      "text/plain": [
       "       InvoiceNo  StockCode  Quantity          InvoiceDate  CustomerID  \\\n",
       "0           2291        266         2  2011-01-28 13:27:00     13707.0   \n",
       "1           9178       1336         1  2011-07-10 16:18:00     16877.0   \n",
       "2          11653         43        25  2011-09-05 14:11:00     13510.0   \n",
       "3          14845       1643         8  2011-10-27 15:49:00     14525.0   \n",
       "4          11576       1581         2  2011-09-04 12:49:00     17774.0   \n",
       "...          ...        ...       ...                  ...         ...   \n",
       "84604      12833       3404        24  2011-09-26 15:35:00     12612.0   \n",
       "84687      15252       3636         2  2011-11-02 15:56:00     17999.0   \n",
       "84708       6146       2689         1  2011-05-06 19:42:00     12748.0   \n",
       "84730       5036       2572        48  2011-04-08 12:42:00     13562.0   \n",
       "84744      16433       2404         1  2011-11-16 13:40:00     16204.0   \n",
       "\n",
       "       Country  \n",
       "0           35  \n",
       "1           35  \n",
       "2           35  \n",
       "3           35  \n",
       "4           35  \n",
       "...        ...  \n",
       "84604       14  \n",
       "84687       35  \n",
       "84708       35  \n",
       "84730       35  \n",
       "84744       35  \n",
       "\n",
       "[14015 rows x 6 columns]"
      ]
     },
     "execution_count": 15,
     "metadata": {},
     "output_type": "execute_result"
    }
   ],
   "source": [
    "stock_df = df.groupby([\"StockCode\"]) # grouping w.r.t StockCode\n",
    "stock_df.head()"
   ]
  },
  {
   "cell_type": "markdown",
   "metadata": {},
   "source": [
    "### If we check for some StockCode we can see that we get Quantities of the Stock Sold "
   ]
  },
  {
   "cell_type": "code",
   "execution_count": 16,
   "metadata": {
    "scrolled": true
   },
   "outputs": [
    {
     "data": {
      "text/html": [
       "<div>\n",
       "<style scoped>\n",
       "    .dataframe tbody tr th:only-of-type {\n",
       "        vertical-align: middle;\n",
       "    }\n",
       "\n",
       "    .dataframe tbody tr th {\n",
       "        vertical-align: top;\n",
       "    }\n",
       "\n",
       "    .dataframe thead th {\n",
       "        text-align: right;\n",
       "    }\n",
       "</style>\n",
       "<table border=\"1\" class=\"dataframe\">\n",
       "  <thead>\n",
       "    <tr style=\"text-align: right;\">\n",
       "      <th></th>\n",
       "      <th>InvoiceNo</th>\n",
       "      <th>StockCode</th>\n",
       "      <th>Quantity</th>\n",
       "      <th>InvoiceDate</th>\n",
       "      <th>CustomerID</th>\n",
       "      <th>Country</th>\n",
       "    </tr>\n",
       "  </thead>\n",
       "  <tbody>\n",
       "    <tr>\n",
       "      <th>10367</th>\n",
       "      <td>5459</td>\n",
       "      <td>0</td>\n",
       "      <td>1</td>\n",
       "      <td>2011-04-18 12:56:00</td>\n",
       "      <td>14525.0</td>\n",
       "      <td>35</td>\n",
       "    </tr>\n",
       "    <tr>\n",
       "      <th>10872</th>\n",
       "      <td>736</td>\n",
       "      <td>0</td>\n",
       "      <td>8</td>\n",
       "      <td>2010-12-09 14:08:00</td>\n",
       "      <td>16795.0</td>\n",
       "      <td>35</td>\n",
       "    </tr>\n",
       "    <tr>\n",
       "      <th>35857</th>\n",
       "      <td>403</td>\n",
       "      <td>0</td>\n",
       "      <td>24</td>\n",
       "      <td>2010-12-06 08:42:00</td>\n",
       "      <td>17677.0</td>\n",
       "      <td>35</td>\n",
       "    </tr>\n",
       "    <tr>\n",
       "      <th>43953</th>\n",
       "      <td>5367</td>\n",
       "      <td>0</td>\n",
       "      <td>62</td>\n",
       "      <td>2011-04-15 12:14:00</td>\n",
       "      <td>18079.0</td>\n",
       "      <td>35</td>\n",
       "    </tr>\n",
       "    <tr>\n",
       "      <th>46347</th>\n",
       "      <td>2050</td>\n",
       "      <td>0</td>\n",
       "      <td>2</td>\n",
       "      <td>2011-01-23 13:34:00</td>\n",
       "      <td>13230.0</td>\n",
       "      <td>35</td>\n",
       "    </tr>\n",
       "    <tr>\n",
       "      <th>55831</th>\n",
       "      <td>269</td>\n",
       "      <td>0</td>\n",
       "      <td>1</td>\n",
       "      <td>2010-12-03 11:19:00</td>\n",
       "      <td>17967.0</td>\n",
       "      <td>35</td>\n",
       "    </tr>\n",
       "    <tr>\n",
       "      <th>57072</th>\n",
       "      <td>4790</td>\n",
       "      <td>0</td>\n",
       "      <td>2</td>\n",
       "      <td>2011-04-03 15:07:00</td>\n",
       "      <td>17337.0</td>\n",
       "      <td>35</td>\n",
       "    </tr>\n",
       "    <tr>\n",
       "      <th>59711</th>\n",
       "      <td>3112</td>\n",
       "      <td>0</td>\n",
       "      <td>12</td>\n",
       "      <td>2011-02-22 11:02:00</td>\n",
       "      <td>17994.0</td>\n",
       "      <td>35</td>\n",
       "    </tr>\n",
       "    <tr>\n",
       "      <th>67849</th>\n",
       "      <td>1974</td>\n",
       "      <td>0</td>\n",
       "      <td>6</td>\n",
       "      <td>2011-01-20 10:43:00</td>\n",
       "      <td>16395.0</td>\n",
       "      <td>35</td>\n",
       "    </tr>\n",
       "    <tr>\n",
       "      <th>72597</th>\n",
       "      <td>5</td>\n",
       "      <td>0</td>\n",
       "      <td>48</td>\n",
       "      <td>2010-12-01 08:45:00</td>\n",
       "      <td>12583.0</td>\n",
       "      <td>13</td>\n",
       "    </tr>\n",
       "  </tbody>\n",
       "</table>\n",
       "</div>"
      ],
      "text/plain": [
       "       InvoiceNo  StockCode  Quantity          InvoiceDate  CustomerID  \\\n",
       "10367       5459          0         1  2011-04-18 12:56:00     14525.0   \n",
       "10872        736          0         8  2010-12-09 14:08:00     16795.0   \n",
       "35857        403          0        24  2010-12-06 08:42:00     17677.0   \n",
       "43953       5367          0        62  2011-04-15 12:14:00     18079.0   \n",
       "46347       2050          0         2  2011-01-23 13:34:00     13230.0   \n",
       "55831        269          0         1  2010-12-03 11:19:00     17967.0   \n",
       "57072       4790          0         2  2011-04-03 15:07:00     17337.0   \n",
       "59711       3112          0        12  2011-02-22 11:02:00     17994.0   \n",
       "67849       1974          0         6  2011-01-20 10:43:00     16395.0   \n",
       "72597          5          0        48  2010-12-01 08:45:00     12583.0   \n",
       "\n",
       "       Country  \n",
       "10367       35  \n",
       "10872       35  \n",
       "35857       35  \n",
       "43953       35  \n",
       "46347       35  \n",
       "55831       35  \n",
       "57072       35  \n",
       "59711       35  \n",
       "67849       35  \n",
       "72597       13  "
      ]
     },
     "execution_count": 16,
     "metadata": {},
     "output_type": "execute_result"
    }
   ],
   "source": [
    "stock_df.get_group(0)"
   ]
  },
  {
   "cell_type": "markdown",
   "metadata": {},
   "source": [
    "## getting total quantities for each stock "
   ]
  },
  {
   "cell_type": "code",
   "execution_count": 17,
   "metadata": {},
   "outputs": [
    {
     "data": {
      "text/html": [
       "<div>\n",
       "<style scoped>\n",
       "    .dataframe tbody tr th:only-of-type {\n",
       "        vertical-align: middle;\n",
       "    }\n",
       "\n",
       "    .dataframe tbody tr th {\n",
       "        vertical-align: top;\n",
       "    }\n",
       "\n",
       "    .dataframe thead th {\n",
       "        text-align: right;\n",
       "    }\n",
       "</style>\n",
       "<table border=\"1\" class=\"dataframe\">\n",
       "  <thead>\n",
       "    <tr style=\"text-align: right;\">\n",
       "      <th></th>\n",
       "      <th>StockCode</th>\n",
       "      <th>InvoiceNo</th>\n",
       "      <th>Quantity</th>\n",
       "      <th>CustomerID</th>\n",
       "      <th>Country</th>\n",
       "    </tr>\n",
       "  </thead>\n",
       "  <tbody>\n",
       "    <tr>\n",
       "      <th>0</th>\n",
       "      <td>0</td>\n",
       "      <td>24165</td>\n",
       "      <td>166</td>\n",
       "      <td>162582.0</td>\n",
       "      <td>328</td>\n",
       "    </tr>\n",
       "    <tr>\n",
       "      <th>1</th>\n",
       "      <td>1</td>\n",
       "      <td>98814</td>\n",
       "      <td>90</td>\n",
       "      <td>110423.0</td>\n",
       "      <td>245</td>\n",
       "    </tr>\n",
       "    <tr>\n",
       "      <th>2</th>\n",
       "      <td>2</td>\n",
       "      <td>101423</td>\n",
       "      <td>54</td>\n",
       "      <td>167379.0</td>\n",
       "      <td>350</td>\n",
       "    </tr>\n",
       "    <tr>\n",
       "      <th>3</th>\n",
       "      <td>3</td>\n",
       "      <td>8238</td>\n",
       "      <td>4</td>\n",
       "      <td>28734.0</td>\n",
       "      <td>70</td>\n",
       "    </tr>\n",
       "    <tr>\n",
       "      <th>4</th>\n",
       "      <td>4</td>\n",
       "      <td>458</td>\n",
       "      <td>4</td>\n",
       "      <td>16710.0</td>\n",
       "      <td>35</td>\n",
       "    </tr>\n",
       "    <tr>\n",
       "      <th>...</th>\n",
       "      <td>...</td>\n",
       "      <td>...</td>\n",
       "      <td>...</td>\n",
       "      <td>...</td>\n",
       "      <td>...</td>\n",
       "    </tr>\n",
       "    <tr>\n",
       "      <th>3262</th>\n",
       "      <td>3676</td>\n",
       "      <td>18330</td>\n",
       "      <td>1</td>\n",
       "      <td>16271.0</td>\n",
       "      <td>35</td>\n",
       "    </tr>\n",
       "    <tr>\n",
       "      <th>3263</th>\n",
       "      <td>3677</td>\n",
       "      <td>297749</td>\n",
       "      <td>30</td>\n",
       "      <td>437419.0</td>\n",
       "      <td>503</td>\n",
       "    </tr>\n",
       "    <tr>\n",
       "      <th>3264</th>\n",
       "      <td>3680</td>\n",
       "      <td>57031</td>\n",
       "      <td>4</td>\n",
       "      <td>56384.0</td>\n",
       "      <td>140</td>\n",
       "    </tr>\n",
       "    <tr>\n",
       "      <th>3265</th>\n",
       "      <td>3681</td>\n",
       "      <td>540328</td>\n",
       "      <td>1352</td>\n",
       "      <td>929509.0</td>\n",
       "      <td>1999</td>\n",
       "    </tr>\n",
       "    <tr>\n",
       "      <th>3266</th>\n",
       "      <td>3683</td>\n",
       "      <td>2253136</td>\n",
       "      <td>615</td>\n",
       "      <td>2988698.0</td>\n",
       "      <td>3863</td>\n",
       "    </tr>\n",
       "  </tbody>\n",
       "</table>\n",
       "<p>3267 rows × 5 columns</p>\n",
       "</div>"
      ],
      "text/plain": [
       "      StockCode  InvoiceNo  Quantity  CustomerID  Country\n",
       "0             0      24165       166    162582.0      328\n",
       "1             1      98814        90    110423.0      245\n",
       "2             2     101423        54    167379.0      350\n",
       "3             3       8238         4     28734.0       70\n",
       "4             4        458         4     16710.0       35\n",
       "...         ...        ...       ...         ...      ...\n",
       "3262       3676      18330         1     16271.0       35\n",
       "3263       3677     297749        30    437419.0      503\n",
       "3264       3680      57031         4     56384.0      140\n",
       "3265       3681     540328      1352    929509.0     1999\n",
       "3266       3683    2253136       615   2988698.0     3863\n",
       "\n",
       "[3267 rows x 5 columns]"
      ]
     },
     "execution_count": 17,
     "metadata": {},
     "output_type": "execute_result"
    }
   ],
   "source": [
    "stock_df.sum().reset_index()"
   ]
  },
  {
   "cell_type": "code",
   "execution_count": 18,
   "metadata": {},
   "outputs": [],
   "source": [
    "Stock_Quantity_df = stock_df.sum().reset_index()[[\"StockCode\",\"Quantity\"]]"
   ]
  },
  {
   "cell_type": "code",
   "execution_count": 19,
   "metadata": {},
   "outputs": [
    {
     "data": {
      "text/html": [
       "<div>\n",
       "<style scoped>\n",
       "    .dataframe tbody tr th:only-of-type {\n",
       "        vertical-align: middle;\n",
       "    }\n",
       "\n",
       "    .dataframe tbody tr th {\n",
       "        vertical-align: top;\n",
       "    }\n",
       "\n",
       "    .dataframe thead th {\n",
       "        text-align: right;\n",
       "    }\n",
       "</style>\n",
       "<table border=\"1\" class=\"dataframe\">\n",
       "  <thead>\n",
       "    <tr style=\"text-align: right;\">\n",
       "      <th></th>\n",
       "      <th>StockCode</th>\n",
       "      <th>Quantity</th>\n",
       "    </tr>\n",
       "  </thead>\n",
       "  <tbody>\n",
       "    <tr>\n",
       "      <th>0</th>\n",
       "      <td>0</td>\n",
       "      <td>166</td>\n",
       "    </tr>\n",
       "    <tr>\n",
       "      <th>1</th>\n",
       "      <td>1</td>\n",
       "      <td>90</td>\n",
       "    </tr>\n",
       "    <tr>\n",
       "      <th>2</th>\n",
       "      <td>2</td>\n",
       "      <td>54</td>\n",
       "    </tr>\n",
       "    <tr>\n",
       "      <th>3</th>\n",
       "      <td>3</td>\n",
       "      <td>4</td>\n",
       "    </tr>\n",
       "    <tr>\n",
       "      <th>4</th>\n",
       "      <td>4</td>\n",
       "      <td>4</td>\n",
       "    </tr>\n",
       "    <tr>\n",
       "      <th>...</th>\n",
       "      <td>...</td>\n",
       "      <td>...</td>\n",
       "    </tr>\n",
       "    <tr>\n",
       "      <th>3262</th>\n",
       "      <td>3676</td>\n",
       "      <td>1</td>\n",
       "    </tr>\n",
       "    <tr>\n",
       "      <th>3263</th>\n",
       "      <td>3677</td>\n",
       "      <td>30</td>\n",
       "    </tr>\n",
       "    <tr>\n",
       "      <th>3264</th>\n",
       "      <td>3680</td>\n",
       "      <td>4</td>\n",
       "    </tr>\n",
       "    <tr>\n",
       "      <th>3265</th>\n",
       "      <td>3681</td>\n",
       "      <td>1352</td>\n",
       "    </tr>\n",
       "    <tr>\n",
       "      <th>3266</th>\n",
       "      <td>3683</td>\n",
       "      <td>615</td>\n",
       "    </tr>\n",
       "  </tbody>\n",
       "</table>\n",
       "<p>3267 rows × 2 columns</p>\n",
       "</div>"
      ],
      "text/plain": [
       "      StockCode  Quantity\n",
       "0             0       166\n",
       "1             1        90\n",
       "2             2        54\n",
       "3             3         4\n",
       "4             4         4\n",
       "...         ...       ...\n",
       "3262       3676         1\n",
       "3263       3677        30\n",
       "3264       3680         4\n",
       "3265       3681      1352\n",
       "3266       3683       615\n",
       "\n",
       "[3267 rows x 2 columns]"
      ]
     },
     "execution_count": 19,
     "metadata": {},
     "output_type": "execute_result"
    }
   ],
   "source": [
    "Stock_Quantity_df"
   ]
  },
  {
   "cell_type": "code",
   "execution_count": 20,
   "metadata": {},
   "outputs": [
    {
     "data": {
      "text/html": [
       "<div>\n",
       "<style scoped>\n",
       "    .dataframe tbody tr th:only-of-type {\n",
       "        vertical-align: middle;\n",
       "    }\n",
       "\n",
       "    .dataframe tbody tr th {\n",
       "        vertical-align: top;\n",
       "    }\n",
       "\n",
       "    .dataframe thead th {\n",
       "        text-align: right;\n",
       "    }\n",
       "</style>\n",
       "<table border=\"1\" class=\"dataframe\">\n",
       "  <thead>\n",
       "    <tr style=\"text-align: right;\">\n",
       "      <th></th>\n",
       "      <th>StockCode</th>\n",
       "      <th>Quantity</th>\n",
       "    </tr>\n",
       "  </thead>\n",
       "  <tbody>\n",
       "    <tr>\n",
       "      <th>2314</th>\n",
       "      <td>2403</td>\n",
       "      <td>80995</td>\n",
       "    </tr>\n",
       "    <tr>\n",
       "      <th>2643</th>\n",
       "      <td>2812</td>\n",
       "      <td>12231</td>\n",
       "    </tr>\n",
       "    <tr>\n",
       "      <th>3009</th>\n",
       "      <td>3249</td>\n",
       "      <td>8726</td>\n",
       "    </tr>\n",
       "    <tr>\n",
       "      <th>1022</th>\n",
       "      <td>1092</td>\n",
       "      <td>8713</td>\n",
       "    </tr>\n",
       "    <tr>\n",
       "      <th>2998</th>\n",
       "      <td>3235</td>\n",
       "      <td>8499</td>\n",
       "    </tr>\n",
       "    <tr>\n",
       "      <th>...</th>\n",
       "      <td>...</td>\n",
       "      <td>...</td>\n",
       "    </tr>\n",
       "    <tr>\n",
       "      <th>184</th>\n",
       "      <td>209</td>\n",
       "      <td>1</td>\n",
       "    </tr>\n",
       "    <tr>\n",
       "      <th>3176</th>\n",
       "      <td>3508</td>\n",
       "      <td>1</td>\n",
       "    </tr>\n",
       "    <tr>\n",
       "      <th>2386</th>\n",
       "      <td>2503</td>\n",
       "      <td>1</td>\n",
       "    </tr>\n",
       "    <tr>\n",
       "      <th>270</th>\n",
       "      <td>312</td>\n",
       "      <td>1</td>\n",
       "    </tr>\n",
       "    <tr>\n",
       "      <th>2551</th>\n",
       "      <td>2698</td>\n",
       "      <td>1</td>\n",
       "    </tr>\n",
       "  </tbody>\n",
       "</table>\n",
       "<p>3267 rows × 2 columns</p>\n",
       "</div>"
      ],
      "text/plain": [
       "      StockCode  Quantity\n",
       "2314       2403     80995\n",
       "2643       2812     12231\n",
       "3009       3249      8726\n",
       "1022       1092      8713\n",
       "2998       3235      8499\n",
       "...         ...       ...\n",
       "184         209         1\n",
       "3176       3508         1\n",
       "2386       2503         1\n",
       "270         312         1\n",
       "2551       2698         1\n",
       "\n",
       "[3267 rows x 2 columns]"
      ]
     },
     "execution_count": 20,
     "metadata": {},
     "output_type": "execute_result"
    }
   ],
   "source": [
    "Top5_Stocks_df = Stock_Quantity_df.sort_values(by = \"Quantity\" , ascending = False) # Sorting to get top 5 \n",
    "Top5_Stocks_df"
   ]
  },
  {
   "cell_type": "markdown",
   "metadata": {},
   "source": [
    "## Thus we get top 5 stocks which get sold a lot with their Quantities  "
   ]
  },
  {
   "cell_type": "code",
   "execution_count": 21,
   "metadata": {},
   "outputs": [
    {
     "data": {
      "text/html": [
       "<table border=\"1\" class=\"dataframe\">\n",
       "  <thead>\n",
       "    <tr style=\"text-align: right;\">\n",
       "      <th>StockCode</th>\n",
       "      <th>Quantity</th>\n",
       "    </tr>\n",
       "  </thead>\n",
       "  <tbody>\n",
       "    <tr>\n",
       "      <td>2403</td>\n",
       "      <td>80995</td>\n",
       "    </tr>\n",
       "    <tr>\n",
       "      <td>2812</td>\n",
       "      <td>12231</td>\n",
       "    </tr>\n",
       "    <tr>\n",
       "      <td>3249</td>\n",
       "      <td>8726</td>\n",
       "    </tr>\n",
       "    <tr>\n",
       "      <td>1092</td>\n",
       "      <td>8713</td>\n",
       "    </tr>\n",
       "    <tr>\n",
       "      <td>3235</td>\n",
       "      <td>8499</td>\n",
       "    </tr>\n",
       "  </tbody>\n",
       "</table>"
      ],
      "text/plain": [
       "<IPython.core.display.HTML object>"
      ]
     },
     "metadata": {},
     "output_type": "display_data"
    }
   ],
   "source": [
    "from IPython.display import display, HTML\n",
    "display(HTML(Top5_Stocks_df.iloc[:5][[\"StockCode\",\"Quantity\"]].to_html(index=False))) # just to print without index"
   ]
  },
  {
   "cell_type": "markdown",
   "metadata": {},
   "source": [
    "## Q2. In which countries most of the stocks are sold ?"
   ]
  },
  {
   "cell_type": "code",
   "execution_count": 22,
   "metadata": {},
   "outputs": [
    {
     "data": {
      "text/html": [
       "<div>\n",
       "<style scoped>\n",
       "    .dataframe tbody tr th:only-of-type {\n",
       "        vertical-align: middle;\n",
       "    }\n",
       "\n",
       "    .dataframe tbody tr th {\n",
       "        vertical-align: top;\n",
       "    }\n",
       "\n",
       "    .dataframe thead th {\n",
       "        text-align: right;\n",
       "    }\n",
       "</style>\n",
       "<table border=\"1\" class=\"dataframe\">\n",
       "  <thead>\n",
       "    <tr style=\"text-align: right;\">\n",
       "      <th></th>\n",
       "      <th>InvoiceNo</th>\n",
       "      <th>StockCode</th>\n",
       "      <th>Quantity</th>\n",
       "      <th>InvoiceDate</th>\n",
       "      <th>CustomerID</th>\n",
       "      <th>Country</th>\n",
       "    </tr>\n",
       "  </thead>\n",
       "  <tbody>\n",
       "    <tr>\n",
       "      <th>0</th>\n",
       "      <td>2291</td>\n",
       "      <td>266</td>\n",
       "      <td>2</td>\n",
       "      <td>2011-01-28 13:27:00</td>\n",
       "      <td>13707.0</td>\n",
       "      <td>35</td>\n",
       "    </tr>\n",
       "    <tr>\n",
       "      <th>1</th>\n",
       "      <td>9178</td>\n",
       "      <td>1336</td>\n",
       "      <td>1</td>\n",
       "      <td>2011-07-10 16:18:00</td>\n",
       "      <td>16877.0</td>\n",
       "      <td>35</td>\n",
       "    </tr>\n",
       "    <tr>\n",
       "      <th>2</th>\n",
       "      <td>11653</td>\n",
       "      <td>43</td>\n",
       "      <td>25</td>\n",
       "      <td>2011-09-05 14:11:00</td>\n",
       "      <td>13510.0</td>\n",
       "      <td>35</td>\n",
       "    </tr>\n",
       "    <tr>\n",
       "      <th>3</th>\n",
       "      <td>14845</td>\n",
       "      <td>1643</td>\n",
       "      <td>8</td>\n",
       "      <td>2011-10-27 15:49:00</td>\n",
       "      <td>14525.0</td>\n",
       "      <td>35</td>\n",
       "    </tr>\n",
       "    <tr>\n",
       "      <th>4</th>\n",
       "      <td>11576</td>\n",
       "      <td>1581</td>\n",
       "      <td>2</td>\n",
       "      <td>2011-09-04 12:49:00</td>\n",
       "      <td>17774.0</td>\n",
       "      <td>35</td>\n",
       "    </tr>\n",
       "    <tr>\n",
       "      <th>...</th>\n",
       "      <td>...</td>\n",
       "      <td>...</td>\n",
       "      <td>...</td>\n",
       "      <td>...</td>\n",
       "      <td>...</td>\n",
       "      <td>...</td>\n",
       "    </tr>\n",
       "    <tr>\n",
       "      <th>51457</th>\n",
       "      <td>6253</td>\n",
       "      <td>1547</td>\n",
       "      <td>24</td>\n",
       "      <td>2011-05-09 13:49:00</td>\n",
       "      <td>12355.0</td>\n",
       "      <td>2</td>\n",
       "    </tr>\n",
       "    <tr>\n",
       "      <th>63243</th>\n",
       "      <td>13576</td>\n",
       "      <td>1437</td>\n",
       "      <td>72</td>\n",
       "      <td>2011-10-07 10:37:00</td>\n",
       "      <td>12781.0</td>\n",
       "      <td>8</td>\n",
       "    </tr>\n",
       "    <tr>\n",
       "      <th>79226</th>\n",
       "      <td>3334</td>\n",
       "      <td>2995</td>\n",
       "      <td>48</td>\n",
       "      <td>2011-02-28 08:43:00</td>\n",
       "      <td>12781.0</td>\n",
       "      <td>8</td>\n",
       "    </tr>\n",
       "    <tr>\n",
       "      <th>80156</th>\n",
       "      <td>6892</td>\n",
       "      <td>2508</td>\n",
       "      <td>2</td>\n",
       "      <td>2011-05-19 17:47:00</td>\n",
       "      <td>12353.0</td>\n",
       "      <td>2</td>\n",
       "    </tr>\n",
       "    <tr>\n",
       "      <th>80591</th>\n",
       "      <td>13576</td>\n",
       "      <td>2844</td>\n",
       "      <td>24</td>\n",
       "      <td>2011-10-07 10:37:00</td>\n",
       "      <td>12781.0</td>\n",
       "      <td>8</td>\n",
       "    </tr>\n",
       "  </tbody>\n",
       "</table>\n",
       "<p>181 rows × 6 columns</p>\n",
       "</div>"
      ],
      "text/plain": [
       "       InvoiceNo  StockCode  Quantity          InvoiceDate  CustomerID  \\\n",
       "0           2291        266         2  2011-01-28 13:27:00     13707.0   \n",
       "1           9178       1336         1  2011-07-10 16:18:00     16877.0   \n",
       "2          11653         43        25  2011-09-05 14:11:00     13510.0   \n",
       "3          14845       1643         8  2011-10-27 15:49:00     14525.0   \n",
       "4          11576       1581         2  2011-09-04 12:49:00     17774.0   \n",
       "...          ...        ...       ...                  ...         ...   \n",
       "51457       6253       1547        24  2011-05-09 13:49:00     12355.0   \n",
       "63243      13576       1437        72  2011-10-07 10:37:00     12781.0   \n",
       "79226       3334       2995        48  2011-02-28 08:43:00     12781.0   \n",
       "80156       6892       2508         2  2011-05-19 17:47:00     12353.0   \n",
       "80591      13576       2844        24  2011-10-07 10:37:00     12781.0   \n",
       "\n",
       "       Country  \n",
       "0           35  \n",
       "1           35  \n",
       "2           35  \n",
       "3           35  \n",
       "4           35  \n",
       "...        ...  \n",
       "51457        2  \n",
       "63243        8  \n",
       "79226        8  \n",
       "80156        2  \n",
       "80591        8  \n",
       "\n",
       "[181 rows x 6 columns]"
      ]
     },
     "execution_count": 22,
     "metadata": {},
     "output_type": "execute_result"
    }
   ],
   "source": [
    "country_df = df.groupby([\"Country\"]) # grouping w.r.t StockCode\n",
    "country_df.head()"
   ]
  },
  {
   "cell_type": "code",
   "execution_count": 23,
   "metadata": {},
   "outputs": [],
   "source": [
    "Country_Quantity_df = country_df.sum().reset_index()[[\"Country\",\"Quantity\"]]"
   ]
  },
  {
   "cell_type": "code",
   "execution_count": 24,
   "metadata": {},
   "outputs": [
    {
     "data": {
      "text/html": [
       "<div>\n",
       "<style scoped>\n",
       "    .dataframe tbody tr th:only-of-type {\n",
       "        vertical-align: middle;\n",
       "    }\n",
       "\n",
       "    .dataframe tbody tr th {\n",
       "        vertical-align: top;\n",
       "    }\n",
       "\n",
       "    .dataframe thead th {\n",
       "        text-align: right;\n",
       "    }\n",
       "</style>\n",
       "<table border=\"1\" class=\"dataframe\">\n",
       "  <thead>\n",
       "    <tr style=\"text-align: right;\">\n",
       "      <th></th>\n",
       "      <th>Country</th>\n",
       "      <th>Quantity</th>\n",
       "    </tr>\n",
       "  </thead>\n",
       "  <tbody>\n",
       "    <tr>\n",
       "      <th>0</th>\n",
       "      <td>0</td>\n",
       "      <td>15508</td>\n",
       "    </tr>\n",
       "    <tr>\n",
       "      <th>1</th>\n",
       "      <td>1</td>\n",
       "      <td>832</td>\n",
       "    </tr>\n",
       "    <tr>\n",
       "      <th>2</th>\n",
       "      <td>2</td>\n",
       "      <td>86</td>\n",
       "    </tr>\n",
       "    <tr>\n",
       "      <th>3</th>\n",
       "      <td>3</td>\n",
       "      <td>4645</td>\n",
       "    </tr>\n",
       "    <tr>\n",
       "      <th>4</th>\n",
       "      <td>4</td>\n",
       "      <td>80</td>\n",
       "    </tr>\n",
       "    <tr>\n",
       "      <th>5</th>\n",
       "      <td>5</td>\n",
       "      <td>476</td>\n",
       "    </tr>\n",
       "    <tr>\n",
       "      <th>6</th>\n",
       "      <td>6</td>\n",
       "      <td>2105</td>\n",
       "    </tr>\n",
       "    <tr>\n",
       "      <th>7</th>\n",
       "      <td>7</td>\n",
       "      <td>1164</td>\n",
       "    </tr>\n",
       "    <tr>\n",
       "      <th>8</th>\n",
       "      <td>8</td>\n",
       "      <td>168</td>\n",
       "    </tr>\n",
       "    <tr>\n",
       "      <th>9</th>\n",
       "      <td>9</td>\n",
       "      <td>1057</td>\n",
       "    </tr>\n",
       "    <tr>\n",
       "      <th>10</th>\n",
       "      <td>10</td>\n",
       "      <td>31687</td>\n",
       "    </tr>\n",
       "    <tr>\n",
       "      <th>11</th>\n",
       "      <td>11</td>\n",
       "      <td>86</td>\n",
       "    </tr>\n",
       "    <tr>\n",
       "      <th>12</th>\n",
       "      <td>12</td>\n",
       "      <td>2485</td>\n",
       "    </tr>\n",
       "    <tr>\n",
       "      <th>13</th>\n",
       "      <td>13</td>\n",
       "      <td>21469</td>\n",
       "    </tr>\n",
       "    <tr>\n",
       "      <th>14</th>\n",
       "      <td>14</td>\n",
       "      <td>25723</td>\n",
       "    </tr>\n",
       "    <tr>\n",
       "      <th>15</th>\n",
       "      <td>15</td>\n",
       "      <td>338</td>\n",
       "    </tr>\n",
       "    <tr>\n",
       "      <th>16</th>\n",
       "      <td>16</td>\n",
       "      <td>575</td>\n",
       "    </tr>\n",
       "    <tr>\n",
       "      <th>17</th>\n",
       "      <td>17</td>\n",
       "      <td>827</td>\n",
       "    </tr>\n",
       "    <tr>\n",
       "      <th>18</th>\n",
       "      <td>18</td>\n",
       "      <td>1841</td>\n",
       "    </tr>\n",
       "    <tr>\n",
       "      <th>19</th>\n",
       "      <td>19</td>\n",
       "      <td>5422</td>\n",
       "    </tr>\n",
       "    <tr>\n",
       "      <th>20</th>\n",
       "      <td>20</td>\n",
       "      <td>50</td>\n",
       "    </tr>\n",
       "    <tr>\n",
       "      <th>21</th>\n",
       "      <td>21</td>\n",
       "      <td>186</td>\n",
       "    </tr>\n",
       "    <tr>\n",
       "      <th>22</th>\n",
       "      <td>22</td>\n",
       "      <td>245</td>\n",
       "    </tr>\n",
       "    <tr>\n",
       "      <th>23</th>\n",
       "      <td>23</td>\n",
       "      <td>44059</td>\n",
       "    </tr>\n",
       "    <tr>\n",
       "      <th>24</th>\n",
       "      <td>24</td>\n",
       "      <td>3903</td>\n",
       "    </tr>\n",
       "    <tr>\n",
       "      <th>25</th>\n",
       "      <td>25</td>\n",
       "      <td>936</td>\n",
       "    </tr>\n",
       "    <tr>\n",
       "      <th>26</th>\n",
       "      <td>26</td>\n",
       "      <td>3034</td>\n",
       "    </tr>\n",
       "    <tr>\n",
       "      <th>27</th>\n",
       "      <td>27</td>\n",
       "      <td>90</td>\n",
       "    </tr>\n",
       "    <tr>\n",
       "      <th>28</th>\n",
       "      <td>28</td>\n",
       "      <td>42</td>\n",
       "    </tr>\n",
       "    <tr>\n",
       "      <th>29</th>\n",
       "      <td>29</td>\n",
       "      <td>1039</td>\n",
       "    </tr>\n",
       "    <tr>\n",
       "      <th>30</th>\n",
       "      <td>30</td>\n",
       "      <td>4783</td>\n",
       "    </tr>\n",
       "    <tr>\n",
       "      <th>31</th>\n",
       "      <td>31</td>\n",
       "      <td>9600</td>\n",
       "    </tr>\n",
       "    <tr>\n",
       "      <th>32</th>\n",
       "      <td>32</td>\n",
       "      <td>6587</td>\n",
       "    </tr>\n",
       "    <tr>\n",
       "      <th>33</th>\n",
       "      <td>33</td>\n",
       "      <td>536</td>\n",
       "    </tr>\n",
       "    <tr>\n",
       "      <th>34</th>\n",
       "      <td>34</td>\n",
       "      <td>349</td>\n",
       "    </tr>\n",
       "    <tr>\n",
       "      <th>35</th>\n",
       "      <td>35</td>\n",
       "      <td>927701</td>\n",
       "    </tr>\n",
       "    <tr>\n",
       "      <th>36</th>\n",
       "      <td>36</td>\n",
       "      <td>257</td>\n",
       "    </tr>\n",
       "  </tbody>\n",
       "</table>\n",
       "</div>"
      ],
      "text/plain": [
       "    Country  Quantity\n",
       "0         0     15508\n",
       "1         1       832\n",
       "2         2        86\n",
       "3         3      4645\n",
       "4         4        80\n",
       "5         5       476\n",
       "6         6      2105\n",
       "7         7      1164\n",
       "8         8       168\n",
       "9         9      1057\n",
       "10       10     31687\n",
       "11       11        86\n",
       "12       12      2485\n",
       "13       13     21469\n",
       "14       14     25723\n",
       "15       15       338\n",
       "16       16       575\n",
       "17       17       827\n",
       "18       18      1841\n",
       "19       19      5422\n",
       "20       20        50\n",
       "21       21       186\n",
       "22       22       245\n",
       "23       23     44059\n",
       "24       24      3903\n",
       "25       25       936\n",
       "26       26      3034\n",
       "27       27        90\n",
       "28       28        42\n",
       "29       29      1039\n",
       "30       30      4783\n",
       "31       31      9600\n",
       "32       32      6587\n",
       "33       33       536\n",
       "34       34       349\n",
       "35       35    927701\n",
       "36       36       257"
      ]
     },
     "execution_count": 24,
     "metadata": {},
     "output_type": "execute_result"
    }
   ],
   "source": [
    "Country_Quantity_df"
   ]
  },
  {
   "cell_type": "markdown",
   "metadata": {},
   "source": [
    "### Plotting this distribution w.r.t. Quantities "
   ]
  },
  {
   "cell_type": "code",
   "execution_count": 25,
   "metadata": {},
   "outputs": [
    {
     "data": {
      "text/plain": [
       "927701"
      ]
     },
     "execution_count": 25,
     "metadata": {},
     "output_type": "execute_result"
    }
   ],
   "source": [
    "Country_Quantity_df.Quantity.max()"
   ]
  },
  {
   "cell_type": "code",
   "execution_count": 26,
   "metadata": {},
   "outputs": [
    {
     "data": {
      "text/plain": [
       "42"
      ]
     },
     "execution_count": 26,
     "metadata": {},
     "output_type": "execute_result"
    }
   ],
   "source": [
    "Country_Quantity_df.Quantity.min()"
   ]
  },
  {
   "cell_type": "markdown",
   "metadata": {},
   "source": [
    "#### Considering only those values which are greater than mean since a the quantities are varying from  42 to 927701 Since some values are too small as compared to other large values "
   ]
  },
  {
   "cell_type": "code",
   "execution_count": 27,
   "metadata": {},
   "outputs": [
    {
     "data": {
      "text/plain": [
       "30269.486486486487"
      ]
     },
     "execution_count": 27,
     "metadata": {},
     "output_type": "execute_result"
    }
   ],
   "source": [
    "CQ_mean = Country_Quantity_df.Quantity.mean()\n",
    "CQ_mean"
   ]
  },
  {
   "cell_type": "code",
   "execution_count": 28,
   "metadata": {},
   "outputs": [
    {
     "data": {
      "text/html": [
       "<div>\n",
       "<style scoped>\n",
       "    .dataframe tbody tr th:only-of-type {\n",
       "        vertical-align: middle;\n",
       "    }\n",
       "\n",
       "    .dataframe tbody tr th {\n",
       "        vertical-align: top;\n",
       "    }\n",
       "\n",
       "    .dataframe thead th {\n",
       "        text-align: right;\n",
       "    }\n",
       "</style>\n",
       "<table border=\"1\" class=\"dataframe\">\n",
       "  <thead>\n",
       "    <tr style=\"text-align: right;\">\n",
       "      <th></th>\n",
       "      <th>Country</th>\n",
       "      <th>Quantity</th>\n",
       "    </tr>\n",
       "  </thead>\n",
       "  <tbody>\n",
       "    <tr>\n",
       "      <th>10</th>\n",
       "      <td>10</td>\n",
       "      <td>31687</td>\n",
       "    </tr>\n",
       "    <tr>\n",
       "      <th>23</th>\n",
       "      <td>23</td>\n",
       "      <td>44059</td>\n",
       "    </tr>\n",
       "    <tr>\n",
       "      <th>35</th>\n",
       "      <td>35</td>\n",
       "      <td>927701</td>\n",
       "    </tr>\n",
       "  </tbody>\n",
       "</table>\n",
       "</div>"
      ],
      "text/plain": [
       "    Country  Quantity\n",
       "10       10     31687\n",
       "23       23     44059\n",
       "35       35    927701"
      ]
     },
     "execution_count": 28,
     "metadata": {},
     "output_type": "execute_result"
    }
   ],
   "source": [
    "Country_Quantity_df[Country_Quantity_df[\"Quantity\"] > int(CQ_mean)]"
   ]
  },
  {
   "cell_type": "markdown",
   "metadata": {},
   "source": [
    "### OOps ! \n",
    "Even the mean is too large that only 3 countries sit within that range so let's consider some random value say 3000 to get more countries in view for better visualization"
   ]
  },
  {
   "cell_type": "code",
   "execution_count": 29,
   "metadata": {},
   "outputs": [
    {
     "data": {
      "text/plain": [
       "<matplotlib.axes._subplots.AxesSubplot at 0x2064a581748>"
      ]
     },
     "execution_count": 29,
     "metadata": {},
     "output_type": "execute_result"
    },
    {
     "data": {
      "image/png": "[encoded data removed]",
      "text/plain": [
       "<Figure size 432x288 with 1 Axes>"
      ]
     },
     "metadata": {},
     "output_type": "display_data"
    }
   ],
   "source": [
    "Country_Quantity_df[Country_Quantity_df[\"Quantity\"] > 3000].plot(kind='bar')\n",
    "sns.barplot(x=\"Country\", y=\"Quantity\", data=Country_Quantity_df[Country_Quantity_df[\"Quantity\"] > 3000] )"
   ]
  },
  {
   "cell_type": "markdown",
   "metadata": {},
   "source": [
    "# By looking at distribution it very clear that Country with code 35 boughts a lot of Stocks or items so that country could be the country where this stocks are manufactured "
   ]
  },
  {
   "cell_type": "code",
   "execution_count": 30,
   "metadata": {},
   "outputs": [
    {
     "data": {
      "text/html": [
       "<div>\n",
       "<style scoped>\n",
       "    .dataframe tbody tr th:only-of-type {\n",
       "        vertical-align: middle;\n",
       "    }\n",
       "\n",
       "    .dataframe tbody tr th {\n",
       "        vertical-align: top;\n",
       "    }\n",
       "\n",
       "    .dataframe thead th {\n",
       "        text-align: right;\n",
       "    }\n",
       "</style>\n",
       "<table border=\"1\" class=\"dataframe\">\n",
       "  <thead>\n",
       "    <tr style=\"text-align: right;\">\n",
       "      <th></th>\n",
       "      <th>Country</th>\n",
       "      <th>Quantity</th>\n",
       "    </tr>\n",
       "  </thead>\n",
       "  <tbody>\n",
       "    <tr>\n",
       "      <th>35</th>\n",
       "      <td>35</td>\n",
       "      <td>927701</td>\n",
       "    </tr>\n",
       "  </tbody>\n",
       "</table>\n",
       "</div>"
      ],
      "text/plain": [
       "    Country  Quantity\n",
       "35       35    927701"
      ]
     },
     "execution_count": 30,
     "metadata": {},
     "output_type": "execute_result"
    }
   ],
   "source": [
    "Country_Quantity_df[Country_Quantity_df[\"Country\"] == 35]"
   ]
  },
  {
   "cell_type": "markdown",
   "metadata": {},
   "source": [
    "## Q.3 Trend of sell of stocks over a  year"
   ]
  },
  {
   "cell_type": "code",
   "execution_count": 31,
   "metadata": {},
   "outputs": [],
   "source": [
    "df['year'] = pd.DatetimeIndex(df['InvoiceDate']).year"
   ]
  },
  {
   "cell_type": "code",
   "execution_count": 32,
   "metadata": {},
   "outputs": [
    {
     "data": {
      "text/plain": [
       "0        2011\n",
       "1        2011\n",
       "2        2011\n",
       "3        2011\n",
       "4        2011\n",
       "         ... \n",
       "84775    2011\n",
       "84776    2011\n",
       "84777    2011\n",
       "84778    2011\n",
       "84779    2011\n",
       "Name: year, Length: 82930, dtype: int64"
      ]
     },
     "execution_count": 32,
     "metadata": {},
     "output_type": "execute_result"
    }
   ],
   "source": [
    "df['year']"
   ]
  },
  {
   "cell_type": "code",
   "execution_count": 34,
   "metadata": {},
   "outputs": [
    {
     "data": {
      "text/html": [
       "<div>\n",
       "<style scoped>\n",
       "    .dataframe tbody tr th:only-of-type {\n",
       "        vertical-align: middle;\n",
       "    }\n",
       "\n",
       "    .dataframe tbody tr th {\n",
       "        vertical-align: top;\n",
       "    }\n",
       "\n",
       "    .dataframe thead th {\n",
       "        text-align: right;\n",
       "    }\n",
       "</style>\n",
       "<table border=\"1\" class=\"dataframe\">\n",
       "  <thead>\n",
       "    <tr style=\"text-align: right;\">\n",
       "      <th></th>\n",
       "      <th>InvoiceNo</th>\n",
       "      <th>StockCode</th>\n",
       "      <th>Quantity</th>\n",
       "      <th>InvoiceDate</th>\n",
       "      <th>CustomerID</th>\n",
       "      <th>Country</th>\n",
       "      <th>year</th>\n",
       "    </tr>\n",
       "  </thead>\n",
       "  <tbody>\n",
       "    <tr>\n",
       "      <th>0</th>\n",
       "      <td>2291</td>\n",
       "      <td>266</td>\n",
       "      <td>2</td>\n",
       "      <td>2011-01-28 13:27:00</td>\n",
       "      <td>13707.0</td>\n",
       "      <td>35</td>\n",
       "      <td>2011</td>\n",
       "    </tr>\n",
       "    <tr>\n",
       "      <th>1</th>\n",
       "      <td>9178</td>\n",
       "      <td>1336</td>\n",
       "      <td>1</td>\n",
       "      <td>2011-07-10 16:18:00</td>\n",
       "      <td>16877.0</td>\n",
       "      <td>35</td>\n",
       "      <td>2011</td>\n",
       "    </tr>\n",
       "    <tr>\n",
       "      <th>2</th>\n",
       "      <td>11653</td>\n",
       "      <td>43</td>\n",
       "      <td>25</td>\n",
       "      <td>2011-09-05 14:11:00</td>\n",
       "      <td>13510.0</td>\n",
       "      <td>35</td>\n",
       "      <td>2011</td>\n",
       "    </tr>\n",
       "    <tr>\n",
       "      <th>3</th>\n",
       "      <td>14845</td>\n",
       "      <td>1643</td>\n",
       "      <td>8</td>\n",
       "      <td>2011-10-27 15:49:00</td>\n",
       "      <td>14525.0</td>\n",
       "      <td>35</td>\n",
       "      <td>2011</td>\n",
       "    </tr>\n",
       "    <tr>\n",
       "      <th>4</th>\n",
       "      <td>11576</td>\n",
       "      <td>1581</td>\n",
       "      <td>2</td>\n",
       "      <td>2011-09-04 12:49:00</td>\n",
       "      <td>17774.0</td>\n",
       "      <td>35</td>\n",
       "      <td>2011</td>\n",
       "    </tr>\n",
       "  </tbody>\n",
       "</table>\n",
       "</div>"
      ],
      "text/plain": [
       "   InvoiceNo  StockCode  Quantity          InvoiceDate  CustomerID  Country  \\\n",
       "0       2291        266         2  2011-01-28 13:27:00     13707.0       35   \n",
       "1       9178       1336         1  2011-07-10 16:18:00     16877.0       35   \n",
       "2      11653         43        25  2011-09-05 14:11:00     13510.0       35   \n",
       "3      14845       1643         8  2011-10-27 15:49:00     14525.0       35   \n",
       "4      11576       1581         2  2011-09-04 12:49:00     17774.0       35   \n",
       "\n",
       "   year  \n",
       "0  2011  \n",
       "1  2011  \n",
       "2  2011  \n",
       "3  2011  \n",
       "4  2011  "
      ]
     },
     "execution_count": 34,
     "metadata": {},
     "output_type": "execute_result"
    }
   ],
   "source": [
    "df.head()"
   ]
  },
  {
   "cell_type": "code",
   "execution_count": 33,
   "metadata": {
    "scrolled": true
   },
   "outputs": [
    {
     "data": {
      "text/plain": [
       "2011    77412\n",
       "2010     5518\n",
       "Name: year, dtype: int64"
      ]
     },
     "execution_count": 33,
     "metadata": {},
     "output_type": "execute_result"
    }
   ],
   "source": [
    "df['year'].value_counts()"
   ]
  },
  {
   "cell_type": "markdown",
   "metadata": {},
   "source": [
    "## Let's see how many stocks were sold in 2010 vs 2011"
   ]
  },
  {
   "cell_type": "code",
   "execution_count": 35,
   "metadata": {},
   "outputs": [],
   "source": [
    "year_df = df.groupby([\"year\"])"
   ]
  },
  {
   "cell_type": "code",
   "execution_count": 36,
   "metadata": {},
   "outputs": [
    {
     "data": {
      "text/html": [
       "<div>\n",
       "<style scoped>\n",
       "    .dataframe tbody tr th:only-of-type {\n",
       "        vertical-align: middle;\n",
       "    }\n",
       "\n",
       "    .dataframe tbody tr th {\n",
       "        vertical-align: top;\n",
       "    }\n",
       "\n",
       "    .dataframe thead th {\n",
       "        text-align: right;\n",
       "    }\n",
       "</style>\n",
       "<table border=\"1\" class=\"dataframe\">\n",
       "  <thead>\n",
       "    <tr style=\"text-align: right;\">\n",
       "      <th></th>\n",
       "      <th>InvoiceNo</th>\n",
       "      <th>StockCode</th>\n",
       "      <th>Quantity</th>\n",
       "      <th>InvoiceDate</th>\n",
       "      <th>CustomerID</th>\n",
       "      <th>Country</th>\n",
       "      <th>year</th>\n",
       "    </tr>\n",
       "  </thead>\n",
       "  <tbody>\n",
       "    <tr>\n",
       "      <th>0</th>\n",
       "      <td>2291</td>\n",
       "      <td>266</td>\n",
       "      <td>2</td>\n",
       "      <td>2011-01-28 13:27:00</td>\n",
       "      <td>13707.0</td>\n",
       "      <td>35</td>\n",
       "      <td>2011</td>\n",
       "    </tr>\n",
       "    <tr>\n",
       "      <th>1</th>\n",
       "      <td>9178</td>\n",
       "      <td>1336</td>\n",
       "      <td>1</td>\n",
       "      <td>2011-07-10 16:18:00</td>\n",
       "      <td>16877.0</td>\n",
       "      <td>35</td>\n",
       "      <td>2011</td>\n",
       "    </tr>\n",
       "    <tr>\n",
       "      <th>2</th>\n",
       "      <td>11653</td>\n",
       "      <td>43</td>\n",
       "      <td>25</td>\n",
       "      <td>2011-09-05 14:11:00</td>\n",
       "      <td>13510.0</td>\n",
       "      <td>35</td>\n",
       "      <td>2011</td>\n",
       "    </tr>\n",
       "    <tr>\n",
       "      <th>3</th>\n",
       "      <td>14845</td>\n",
       "      <td>1643</td>\n",
       "      <td>8</td>\n",
       "      <td>2011-10-27 15:49:00</td>\n",
       "      <td>14525.0</td>\n",
       "      <td>35</td>\n",
       "      <td>2011</td>\n",
       "    </tr>\n",
       "    <tr>\n",
       "      <th>4</th>\n",
       "      <td>11576</td>\n",
       "      <td>1581</td>\n",
       "      <td>2</td>\n",
       "      <td>2011-09-04 12:49:00</td>\n",
       "      <td>17774.0</td>\n",
       "      <td>35</td>\n",
       "      <td>2011</td>\n",
       "    </tr>\n",
       "    <tr>\n",
       "      <th>50</th>\n",
       "      <td>258</td>\n",
       "      <td>800</td>\n",
       "      <td>36</td>\n",
       "      <td>2010-12-03 09:31:00</td>\n",
       "      <td>17135.0</td>\n",
       "      <td>35</td>\n",
       "      <td>2010</td>\n",
       "    </tr>\n",
       "    <tr>\n",
       "      <th>83</th>\n",
       "      <td>642</td>\n",
       "      <td>358</td>\n",
       "      <td>2</td>\n",
       "      <td>2010-12-08 14:22:00</td>\n",
       "      <td>13523.0</td>\n",
       "      <td>35</td>\n",
       "      <td>2010</td>\n",
       "    </tr>\n",
       "    <tr>\n",
       "      <th>104</th>\n",
       "      <td>1362</td>\n",
       "      <td>1330</td>\n",
       "      <td>12</td>\n",
       "      <td>2010-12-21 14:54:00</td>\n",
       "      <td>13487.0</td>\n",
       "      <td>35</td>\n",
       "      <td>2010</td>\n",
       "    </tr>\n",
       "    <tr>\n",
       "      <th>153</th>\n",
       "      <td>771</td>\n",
       "      <td>1258</td>\n",
       "      <td>2</td>\n",
       "      <td>2010-12-09 18:58:00</td>\n",
       "      <td>14713.0</td>\n",
       "      <td>35</td>\n",
       "      <td>2010</td>\n",
       "    </tr>\n",
       "    <tr>\n",
       "      <th>162</th>\n",
       "      <td>888</td>\n",
       "      <td>391</td>\n",
       "      <td>4</td>\n",
       "      <td>2010-12-12 16:05:00</td>\n",
       "      <td>17618.0</td>\n",
       "      <td>35</td>\n",
       "      <td>2010</td>\n",
       "    </tr>\n",
       "  </tbody>\n",
       "</table>\n",
       "</div>"
      ],
      "text/plain": [
       "     InvoiceNo  StockCode  Quantity          InvoiceDate  CustomerID  Country  \\\n",
       "0         2291        266         2  2011-01-28 13:27:00     13707.0       35   \n",
       "1         9178       1336         1  2011-07-10 16:18:00     16877.0       35   \n",
       "2        11653         43        25  2011-09-05 14:11:00     13510.0       35   \n",
       "3        14845       1643         8  2011-10-27 15:49:00     14525.0       35   \n",
       "4        11576       1581         2  2011-09-04 12:49:00     17774.0       35   \n",
       "50         258        800        36  2010-12-03 09:31:00     17135.0       35   \n",
       "83         642        358         2  2010-12-08 14:22:00     13523.0       35   \n",
       "104       1362       1330        12  2010-12-21 14:54:00     13487.0       35   \n",
       "153        771       1258         2  2010-12-09 18:58:00     14713.0       35   \n",
       "162        888        391         4  2010-12-12 16:05:00     17618.0       35   \n",
       "\n",
       "     year  \n",
       "0    2011  \n",
       "1    2011  \n",
       "2    2011  \n",
       "3    2011  \n",
       "4    2011  \n",
       "50   2010  \n",
       "83   2010  \n",
       "104  2010  \n",
       "153  2010  \n",
       "162  2010  "
      ]
     },
     "execution_count": 36,
     "metadata": {},
     "output_type": "execute_result"
    }
   ],
   "source": [
    "year_df.head()"
   ]
  },
  {
   "cell_type": "code",
   "execution_count": 37,
   "metadata": {},
   "outputs": [],
   "source": [
    "Year_Quantity_df = year_df.sum().reset_index()[[\"year\",\"Quantity\"]]"
   ]
  },
  {
   "cell_type": "code",
   "execution_count": 38,
   "metadata": {},
   "outputs": [
    {
     "data": {
      "text/html": [
       "<div>\n",
       "<style scoped>\n",
       "    .dataframe tbody tr th:only-of-type {\n",
       "        vertical-align: middle;\n",
       "    }\n",
       "\n",
       "    .dataframe tbody tr th {\n",
       "        vertical-align: top;\n",
       "    }\n",
       "\n",
       "    .dataframe thead th {\n",
       "        text-align: right;\n",
       "    }\n",
       "</style>\n",
       "<table border=\"1\" class=\"dataframe\">\n",
       "  <thead>\n",
       "    <tr style=\"text-align: right;\">\n",
       "      <th></th>\n",
       "      <th>year</th>\n",
       "      <th>Quantity</th>\n",
       "    </tr>\n",
       "  </thead>\n",
       "  <tbody>\n",
       "    <tr>\n",
       "      <th>0</th>\n",
       "      <td>2010</td>\n",
       "      <td>65212</td>\n",
       "    </tr>\n",
       "    <tr>\n",
       "      <th>1</th>\n",
       "      <td>2011</td>\n",
       "      <td>1054759</td>\n",
       "    </tr>\n",
       "  </tbody>\n",
       "</table>\n",
       "</div>"
      ],
      "text/plain": [
       "   year  Quantity\n",
       "0  2010     65212\n",
       "1  2011   1054759"
      ]
     },
     "execution_count": 38,
     "metadata": {},
     "output_type": "execute_result"
    }
   ],
   "source": [
    "Year_Quantity_df.head()"
   ]
  },
  {
   "cell_type": "code",
   "execution_count": 39,
   "metadata": {},
   "outputs": [
    {
     "data": {
      "image/png": "[encoded data removed]",
      "text/plain": [
       "<Figure size 432x288 with 1 Axes>"
      ]
     },
     "metadata": {},
     "output_type": "display_data"
    }
   ],
   "source": [
    "ax = sns.barplot(x=\"year\", y=\"Quantity\", data=Year_Quantity_df)"
   ]
  },
  {
   "cell_type": "markdown",
   "metadata": {},
   "source": [
    "## Let's see mothwise trend of items sold in 2010 and 2011"
   ]
  },
  {
   "cell_type": "code",
   "execution_count": 40,
   "metadata": {},
   "outputs": [],
   "source": [
    "df['month'] = pd.DatetimeIndex(df['InvoiceDate']).month"
   ]
  },
  {
   "cell_type": "code",
   "execution_count": 41,
   "metadata": {},
   "outputs": [
    {
     "data": {
      "text/plain": [
       "0         1\n",
       "1         7\n",
       "2         9\n",
       "3        10\n",
       "4         9\n",
       "         ..\n",
       "84775     3\n",
       "84776    10\n",
       "84777     5\n",
       "84778    10\n",
       "84779     8\n",
       "Name: month, Length: 82930, dtype: int64"
      ]
     },
     "execution_count": 41,
     "metadata": {},
     "output_type": "execute_result"
    }
   ],
   "source": [
    "df['month']"
   ]
  },
  {
   "cell_type": "code",
   "execution_count": 42,
   "metadata": {},
   "outputs": [],
   "source": [
    "month_df = df.groupby([\"month\", \"year\"])"
   ]
  },
  {
   "cell_type": "code",
   "execution_count": 43,
   "metadata": {},
   "outputs": [
    {
     "data": {
      "text/html": [
       "<div>\n",
       "<style scoped>\n",
       "    .dataframe tbody tr th:only-of-type {\n",
       "        vertical-align: middle;\n",
       "    }\n",
       "\n",
       "    .dataframe tbody tr th {\n",
       "        vertical-align: top;\n",
       "    }\n",
       "\n",
       "    .dataframe thead th {\n",
       "        text-align: right;\n",
       "    }\n",
       "</style>\n",
       "<table border=\"1\" class=\"dataframe\">\n",
       "  <thead>\n",
       "    <tr style=\"text-align: right;\">\n",
       "      <th></th>\n",
       "      <th>InvoiceNo</th>\n",
       "      <th>StockCode</th>\n",
       "      <th>Quantity</th>\n",
       "      <th>InvoiceDate</th>\n",
       "      <th>CustomerID</th>\n",
       "      <th>Country</th>\n",
       "      <th>year</th>\n",
       "      <th>month</th>\n",
       "    </tr>\n",
       "  </thead>\n",
       "  <tbody>\n",
       "    <tr>\n",
       "      <th>0</th>\n",
       "      <td>2291</td>\n",
       "      <td>266</td>\n",
       "      <td>2</td>\n",
       "      <td>2011-01-28 13:27:00</td>\n",
       "      <td>13707.0</td>\n",
       "      <td>35</td>\n",
       "      <td>2011</td>\n",
       "      <td>1</td>\n",
       "    </tr>\n",
       "    <tr>\n",
       "      <th>1</th>\n",
       "      <td>9178</td>\n",
       "      <td>1336</td>\n",
       "      <td>1</td>\n",
       "      <td>2011-07-10 16:18:00</td>\n",
       "      <td>16877.0</td>\n",
       "      <td>35</td>\n",
       "      <td>2011</td>\n",
       "      <td>7</td>\n",
       "    </tr>\n",
       "    <tr>\n",
       "      <th>2</th>\n",
       "      <td>11653</td>\n",
       "      <td>43</td>\n",
       "      <td>25</td>\n",
       "      <td>2011-09-05 14:11:00</td>\n",
       "      <td>13510.0</td>\n",
       "      <td>35</td>\n",
       "      <td>2011</td>\n",
       "      <td>9</td>\n",
       "    </tr>\n",
       "    <tr>\n",
       "      <th>3</th>\n",
       "      <td>14845</td>\n",
       "      <td>1643</td>\n",
       "      <td>8</td>\n",
       "      <td>2011-10-27 15:49:00</td>\n",
       "      <td>14525.0</td>\n",
       "      <td>35</td>\n",
       "      <td>2011</td>\n",
       "      <td>10</td>\n",
       "    </tr>\n",
       "    <tr>\n",
       "      <th>4</th>\n",
       "      <td>11576</td>\n",
       "      <td>1581</td>\n",
       "      <td>2</td>\n",
       "      <td>2011-09-04 12:49:00</td>\n",
       "      <td>17774.0</td>\n",
       "      <td>35</td>\n",
       "      <td>2011</td>\n",
       "      <td>9</td>\n",
       "    </tr>\n",
       "    <tr>\n",
       "      <th>...</th>\n",
       "      <td>...</td>\n",
       "      <td>...</td>\n",
       "      <td>...</td>\n",
       "      <td>...</td>\n",
       "      <td>...</td>\n",
       "      <td>...</td>\n",
       "      <td>...</td>\n",
       "      <td>...</td>\n",
       "    </tr>\n",
       "    <tr>\n",
       "      <th>308</th>\n",
       "      <td>5085</td>\n",
       "      <td>875</td>\n",
       "      <td>1</td>\n",
       "      <td>2011-04-10 16:01:00</td>\n",
       "      <td>14504.0</td>\n",
       "      <td>35</td>\n",
       "      <td>2011</td>\n",
       "      <td>4</td>\n",
       "    </tr>\n",
       "    <tr>\n",
       "      <th>310</th>\n",
       "      <td>18225</td>\n",
       "      <td>1608</td>\n",
       "      <td>24</td>\n",
       "      <td>2011-12-06 12:28:00</td>\n",
       "      <td>17481.0</td>\n",
       "      <td>35</td>\n",
       "      <td>2011</td>\n",
       "      <td>12</td>\n",
       "    </tr>\n",
       "    <tr>\n",
       "      <th>332</th>\n",
       "      <td>5059</td>\n",
       "      <td>1381</td>\n",
       "      <td>1</td>\n",
       "      <td>2011-04-10 11:14:00</td>\n",
       "      <td>18118.0</td>\n",
       "      <td>35</td>\n",
       "      <td>2011</td>\n",
       "      <td>4</td>\n",
       "    </tr>\n",
       "    <tr>\n",
       "      <th>361</th>\n",
       "      <td>4816</td>\n",
       "      <td>1838</td>\n",
       "      <td>12</td>\n",
       "      <td>2011-04-04 12:37:00</td>\n",
       "      <td>13294.0</td>\n",
       "      <td>35</td>\n",
       "      <td>2011</td>\n",
       "      <td>4</td>\n",
       "    </tr>\n",
       "    <tr>\n",
       "      <th>364</th>\n",
       "      <td>5350</td>\n",
       "      <td>572</td>\n",
       "      <td>4</td>\n",
       "      <td>2011-04-15 09:27:00</td>\n",
       "      <td>13952.0</td>\n",
       "      <td>35</td>\n",
       "      <td>2011</td>\n",
       "      <td>4</td>\n",
       "    </tr>\n",
       "  </tbody>\n",
       "</table>\n",
       "<p>130 rows × 8 columns</p>\n",
       "</div>"
      ],
      "text/plain": [
       "     InvoiceNo  StockCode  Quantity          InvoiceDate  CustomerID  Country  \\\n",
       "0         2291        266         2  2011-01-28 13:27:00     13707.0       35   \n",
       "1         9178       1336         1  2011-07-10 16:18:00     16877.0       35   \n",
       "2        11653         43        25  2011-09-05 14:11:00     13510.0       35   \n",
       "3        14845       1643         8  2011-10-27 15:49:00     14525.0       35   \n",
       "4        11576       1581         2  2011-09-04 12:49:00     17774.0       35   \n",
       "..         ...        ...       ...                  ...         ...      ...   \n",
       "308       5085        875         1  2011-04-10 16:01:00     14504.0       35   \n",
       "310      18225       1608        24  2011-12-06 12:28:00     17481.0       35   \n",
       "332       5059       1381         1  2011-04-10 11:14:00     18118.0       35   \n",
       "361       4816       1838        12  2011-04-04 12:37:00     13294.0       35   \n",
       "364       5350        572         4  2011-04-15 09:27:00     13952.0       35   \n",
       "\n",
       "     year  month  \n",
       "0    2011      1  \n",
       "1    2011      7  \n",
       "2    2011      9  \n",
       "3    2011     10  \n",
       "4    2011      9  \n",
       "..    ...    ...  \n",
       "308  2011      4  \n",
       "310  2011     12  \n",
       "332  2011      4  \n",
       "361  2011      4  \n",
       "364  2011      4  \n",
       "\n",
       "[130 rows x 8 columns]"
      ]
     },
     "execution_count": 43,
     "metadata": {},
     "output_type": "execute_result"
    }
   ],
   "source": [
    "month_df.head(10)"
   ]
  },
  {
   "cell_type": "code",
   "execution_count": 44,
   "metadata": {},
   "outputs": [],
   "source": [
    "Month_Quantity_df = month_df.sum().reset_index()[[\"month\",\"year\",\"Quantity\"]]"
   ]
  },
  {
   "cell_type": "markdown",
   "metadata": {},
   "source": [
    "### For 2010"
   ]
  },
  {
   "cell_type": "code",
   "execution_count": 45,
   "metadata": {},
   "outputs": [],
   "source": [
    "Month2010_Quantity_df = Month_Quantity_df[Month_Quantity_df[\"year\"] == 2010]"
   ]
  },
  {
   "cell_type": "code",
   "execution_count": 46,
   "metadata": {},
   "outputs": [
    {
     "data": {
      "text/html": [
       "<div>\n",
       "<style scoped>\n",
       "    .dataframe tbody tr th:only-of-type {\n",
       "        vertical-align: middle;\n",
       "    }\n",
       "\n",
       "    .dataframe tbody tr th {\n",
       "        vertical-align: top;\n",
       "    }\n",
       "\n",
       "    .dataframe thead th {\n",
       "        text-align: right;\n",
       "    }\n",
       "</style>\n",
       "<table border=\"1\" class=\"dataframe\">\n",
       "  <thead>\n",
       "    <tr style=\"text-align: right;\">\n",
       "      <th></th>\n",
       "      <th>month</th>\n",
       "      <th>year</th>\n",
       "      <th>Quantity</th>\n",
       "    </tr>\n",
       "  </thead>\n",
       "  <tbody>\n",
       "    <tr>\n",
       "      <th>11</th>\n",
       "      <td>12</td>\n",
       "      <td>2010</td>\n",
       "      <td>65212</td>\n",
       "    </tr>\n",
       "  </tbody>\n",
       "</table>\n",
       "</div>"
      ],
      "text/plain": [
       "    month  year  Quantity\n",
       "11     12  2010     65212"
      ]
     },
     "execution_count": 46,
     "metadata": {},
     "output_type": "execute_result"
    }
   ],
   "source": [
    "Month2010_Quantity_df"
   ]
  },
  {
   "cell_type": "markdown",
   "metadata": {},
   "source": [
    "#### So there was only one month from 2010 when the 65212 products were sold !"
   ]
  },
  {
   "cell_type": "markdown",
   "metadata": {},
   "source": [
    "### For 2011"
   ]
  },
  {
   "cell_type": "code",
   "execution_count": 47,
   "metadata": {},
   "outputs": [],
   "source": [
    "Month2011_Quantity_df = Month_Quantity_df[Month_Quantity_df[\"year\"] == 2011]"
   ]
  },
  {
   "cell_type": "code",
   "execution_count": 48,
   "metadata": {},
   "outputs": [
    {
     "data": {
      "text/html": [
       "<div>\n",
       "<style scoped>\n",
       "    .dataframe tbody tr th:only-of-type {\n",
       "        vertical-align: middle;\n",
       "    }\n",
       "\n",
       "    .dataframe tbody tr th {\n",
       "        vertical-align: top;\n",
       "    }\n",
       "\n",
       "    .dataframe thead th {\n",
       "        text-align: right;\n",
       "    }\n",
       "</style>\n",
       "<table border=\"1\" class=\"dataframe\">\n",
       "  <thead>\n",
       "    <tr style=\"text-align: right;\">\n",
       "      <th></th>\n",
       "      <th>month</th>\n",
       "      <th>year</th>\n",
       "      <th>Quantity</th>\n",
       "    </tr>\n",
       "  </thead>\n",
       "  <tbody>\n",
       "    <tr>\n",
       "      <th>0</th>\n",
       "      <td>1</td>\n",
       "      <td>2011</td>\n",
       "      <td>57589</td>\n",
       "    </tr>\n",
       "    <tr>\n",
       "      <th>1</th>\n",
       "      <td>2</td>\n",
       "      <td>2011</td>\n",
       "      <td>57268</td>\n",
       "    </tr>\n",
       "    <tr>\n",
       "      <th>2</th>\n",
       "      <td>3</td>\n",
       "      <td>2011</td>\n",
       "      <td>68302</td>\n",
       "    </tr>\n",
       "    <tr>\n",
       "      <th>3</th>\n",
       "      <td>4</td>\n",
       "      <td>2011</td>\n",
       "      <td>59621</td>\n",
       "    </tr>\n",
       "    <tr>\n",
       "      <th>4</th>\n",
       "      <td>5</td>\n",
       "      <td>2011</td>\n",
       "      <td>74364</td>\n",
       "    </tr>\n",
       "    <tr>\n",
       "      <th>5</th>\n",
       "      <td>6</td>\n",
       "      <td>2011</td>\n",
       "      <td>74914</td>\n",
       "    </tr>\n",
       "    <tr>\n",
       "      <th>6</th>\n",
       "      <td>7</td>\n",
       "      <td>2011</td>\n",
       "      <td>73230</td>\n",
       "    </tr>\n",
       "    <tr>\n",
       "      <th>7</th>\n",
       "      <td>8</td>\n",
       "      <td>2011</td>\n",
       "      <td>86574</td>\n",
       "    </tr>\n",
       "    <tr>\n",
       "      <th>8</th>\n",
       "      <td>9</td>\n",
       "      <td>2011</td>\n",
       "      <td>112211</td>\n",
       "    </tr>\n",
       "    <tr>\n",
       "      <th>9</th>\n",
       "      <td>10</td>\n",
       "      <td>2011</td>\n",
       "      <td>124074</td>\n",
       "    </tr>\n",
       "    <tr>\n",
       "      <th>10</th>\n",
       "      <td>11</td>\n",
       "      <td>2011</td>\n",
       "      <td>139942</td>\n",
       "    </tr>\n",
       "    <tr>\n",
       "      <th>12</th>\n",
       "      <td>12</td>\n",
       "      <td>2011</td>\n",
       "      <td>126670</td>\n",
       "    </tr>\n",
       "  </tbody>\n",
       "</table>\n",
       "</div>"
      ],
      "text/plain": [
       "    month  year  Quantity\n",
       "0       1  2011     57589\n",
       "1       2  2011     57268\n",
       "2       3  2011     68302\n",
       "3       4  2011     59621\n",
       "4       5  2011     74364\n",
       "5       6  2011     74914\n",
       "6       7  2011     73230\n",
       "7       8  2011     86574\n",
       "8       9  2011    112211\n",
       "9      10  2011    124074\n",
       "10     11  2011    139942\n",
       "12     12  2011    126670"
      ]
     },
     "execution_count": 48,
     "metadata": {},
     "output_type": "execute_result"
    }
   ],
   "source": [
    "Month2011_Quantity_df"
   ]
  },
  {
   "cell_type": "code",
   "execution_count": 49,
   "metadata": {},
   "outputs": [
    {
     "data": {
      "text/plain": [
       "<matplotlib.axes._subplots.AxesSubplot at 0x2064d4ced48>"
      ]
     },
     "execution_count": 49,
     "metadata": {},
     "output_type": "execute_result"
    },
    {
     "data": {
      "image/png": "[encoded data removed]",
      "text/plain": [
       "<Figure size 432x288 with 1 Axes>"
      ]
     },
     "metadata": {},
     "output_type": "display_data"
    }
   ],
   "source": [
    "sns.barplot(x=\"month\", y=\"Quantity\", data=Month2011_Quantity_df)"
   ]
  },
  {
   "cell_type": "markdown",
   "metadata": {},
   "source": [
    "## So we can see that in the end of the year from September to December stocks sold in 2011 were in high demand "
   ]
  },
  {
   "cell_type": "markdown",
   "metadata": {},
   "source": [
    "# Thank You !"
   ]
  }
 ],
 "metadata": {
  "kernelspec": {
   "display_name": "Python 3",
   "language": "python",
   "name": "python3"
  },
  "language_info": {
   "codemirror_mode": {
    "name": "ipython",
    "version": 3
   },
   "file_extension": ".py",
   "mimetype": "text/x-python",
   "name": "python",
   "nbconvert_exporter": "python",
   "pygments_lexer": "ipython3",
   "version": "3.7.8"
  }
 },
 "nbformat": 4,
 "nbformat_minor": 4
}
